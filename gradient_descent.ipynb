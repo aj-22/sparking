{
 "cells": [
  {
   "cell_type": "code",
   "execution_count": 1,
   "metadata": {},
   "outputs": [],
   "source": [
    "import pandas as pd\n",
    "import numpy as np\n",
    "import matplotlib.pyplot as plt\n",
    "import copy\n",
    "import numpy.random as rnd\n",
    "import timeit\n",
    "\n",
    "\n",
    "features_path=r'q1\\data\\features.txt'\n",
    "target_path=r'q1\\data\\target.txt'\n"
   ]
  },
  {
   "cell_type": "code",
   "execution_count": 2,
   "metadata": {},
   "outputs": [],
   "source": [
    "X_og=np.genfromtxt(features_path,delimiter=\",\")\n",
    "y_og=np.genfromtxt(target_path,dtype=(int),delimiter=\",\")\n",
    "d=X_og.shape[1]\n",
    "n=X_og.shape[0]\n",
    "C=100"
   ]
  },
  {
   "cell_type": "markdown",
   "metadata": {},
   "source": [
    "### Batch Gradient Descent"
   ]
  },
  {
   "cell_type": "code",
   "execution_count": 3,
   "metadata": {},
   "outputs": [],
   "source": [
    "'''\n",
    "Function: Cost function for SVM\n",
    "'''\n",
    "\n",
    "def f(W,b):\n",
    "    f1=0.5*np.dot(W,W)\n",
    "    f2=0\n",
    "    for i in range(len(X)):\n",
    "        f2+=max(0,1-y[i]*(W.dot(X[i])+b))\n",
    "    f2=C*f2\n",
    "    return f1+f2\n",
    "\n",
    "def get_cost_pc(f_k_minus_1, f_k):\n",
    "    cost_pc=abs(f_k_minus_1-f_k)/f_k_minus_1\n",
    "    return cost_pc*100\n",
    "\n",
    "def delta_f_w(W, b, j):\n",
    "    d1=W[j]\n",
    "    d2=0\n",
    "    for i in range(len(X)):\n",
    "        if y[i]*(W.dot(X[i])+b)>=1:\n",
    "            d2+=0\n",
    "        else:\n",
    "            d2+=(-y[i]*X[i][j])\n",
    "    return d1+C*d2\n",
    "\n",
    "def delta_f_b(W,b):\n",
    "    d=0\n",
    "    for i in range(len(X)):\n",
    "        if y[i]*(W.dot(X[i])+b)>=1:\n",
    "            d+=0\n",
    "        else:\n",
    "            d+=(-y[i])\n",
    "    return C*d"
   ]
  },
  {
   "cell_type": "code",
   "execution_count": 4,
   "metadata": {},
   "outputs": [],
   "source": [
    "'''Initializations'''\n",
    "X=copy.deepcopy(X_og)\n",
    "y=copy.deepcopy(y_og)\n",
    "eta=3e-7\n",
    "error=0.25\n",
    "W=np.zeros(d)\n",
    "b=0\n",
    "f_0=f(W,b)"
   ]
  },
  {
   "cell_type": "code",
   "execution_count": 5,
   "metadata": {},
   "outputs": [],
   "source": [
    "k=0\n",
    "W_pr=np.zeros(d)\n",
    "b_pr=0\n",
    "cost_gd=[]\n",
    "cost_pc=100\n",
    "f_0=f(W,b)\n",
    "cost_gd.append(f_0)\n",
    "start=timeit.default_timer()\n",
    "while cost_pc>=error:\n",
    "    for j in range(d):\n",
    "        W_pr[j]=W[j]-eta*delta_f_w(W, b, j)\n",
    "        \n",
    "    b_pr=b-eta*delta_f_b(W,b)\n",
    "    k+=1\n",
    "    cost_gd.append(f(W_pr,b_pr))\n",
    "    W=copy.deepcopy(W_pr)\n",
    "    b=copy.deepcopy(b_pr)\n",
    "    cost_pc=get_cost_pc(cost_gd[k-1],cost_gd[k])\n",
    "    #print(cost_gd[k-1])\n",
    "end=timeit.default_timer()\n",
    "batch_time=(end-start)"
   ]
  },
  {
   "cell_type": "markdown",
   "metadata": {},
   "source": [
    "### Stocastic Gradient Descent\n"
   ]
  },
  {
   "cell_type": "code",
   "execution_count": 19,
   "metadata": {},
   "outputs": [],
   "source": [
    "def f(W,b):\n",
    "    f1=0.5*np.dot(W,W)\n",
    "    f2=0\n",
    "    for i in range(len(X)):\n",
    "        f2+=max(0,1-y[i]*(W.dot(X[i])+b))\n",
    "    f2=C*f2\n",
    "    return f1+f2\n",
    "\n",
    "def get_cost_pc(f_k_minus_1, f_k):\n",
    "    cost_pc=abs(f_k_minus_1-f_k)/f_k_minus_1\n",
    "    return cost_pc*100\n",
    "\n",
    "def delta_f_w(W, b, j, X_i, y_i):\n",
    "    d1=W[j]\n",
    "    d2=0\n",
    "    if y_i*(W.dot(X_i)+b)>=1:\n",
    "        d2+=0\n",
    "    else:\n",
    "        d2+=(-y_i*X_i[j])\n",
    "    return d1+C*d2\n",
    "\n",
    "def delta_f_b(W,b, X_i, y_i):\n",
    "    d=0\n",
    "    if y_i*(W.dot(X_i)+b)>=1:\n",
    "        d+=0\n",
    "    else:\n",
    "        d+=(-y_i)\n",
    "    return C*d"
   ]
  },
  {
   "cell_type": "code",
   "execution_count": 20,
   "metadata": {},
   "outputs": [],
   "source": [
    "X=copy.deepcopy(X_og)\n",
    "y=copy.deepcopy(y_og)\n",
    "Xy=np.hstack((X,y.reshape(len(X),1)))\n",
    "rnd.RandomState(seed=66)\n",
    "rnd.shuffle(Xy)\n",
    "y=Xy[:,-1]\n",
    "X=Xy[:,:-1]"
   ]
  },
  {
   "cell_type": "code",
   "execution_count": 21,
   "metadata": {},
   "outputs": [],
   "source": [
    "'''Initializations'''\n",
    "eta=0.0001\n",
    "error=0.001\n",
    "W=np.zeros(d)\n",
    "b=0\n",
    "cost_0=0\n"
   ]
  },
  {
   "cell_type": "code",
   "execution_count": 22,
   "metadata": {},
   "outputs": [],
   "source": [
    "k=0\n",
    "W_pr=np.zeros(d)\n",
    "b_pr=0\n",
    "cost_sgd=[]\n",
    "deltas=[]\n",
    "cost_pc=100\n",
    "f_0=f(W,b)\n",
    "cost_sgd.append(f_0)\n",
    "deltas.append(0)\n",
    "i=0\n",
    "delta=100\n",
    "start=timeit.default_timer()\n",
    "while delta>=error:\n",
    "    for j in range(d):\n",
    "        W_pr[j]=W[j]-eta*delta_f_w(W, b, j,X[i],y[i])   \n",
    "    b_pr=b-eta*delta_f_b(W,b,X[i],y[i])\n",
    "    k+=1\n",
    "    i=(i%n)+1\n",
    "    cost_sgd.append(f(W_pr,b_pr))\n",
    "    W=copy.deepcopy(W_pr)\n",
    "    b=copy.deepcopy(b_pr)\n",
    "    cost_pc=get_cost_pc(cost_sgd[k-1],cost_sgd[k])\n",
    "    delta=0.5*deltas[k-1]+0.5*cost_pc\n",
    "    deltas.append(delta)\n",
    "    #if (k%100==0):\n",
    "    #    print(cost_sgd[k-1],delta) \n",
    "end=timeit.default_timer()\n",
    "sgd_time=(end-start)"
   ]
  },
  {
   "cell_type": "markdown",
   "metadata": {},
   "source": [
    "### Mini Batch Gradient"
   ]
  },
  {
   "cell_type": "code",
   "execution_count": 23,
   "metadata": {},
   "outputs": [],
   "source": [
    "def f(W,b):\n",
    "    f1=0.5*np.dot(W,W)\n",
    "    f2=0\n",
    "    for i in range(len(X)):\n",
    "        f2+=max(0,1-y[i]*(W.dot(X[i])+b))\n",
    "    f2=C*f2\n",
    "    return f1+f2\n",
    "\n",
    "def get_cost_pc(f_k_minus_1, f_k):\n",
    "    cost_pc=abs(f_k_minus_1-f_k)/f_k_minus_1\n",
    "    return cost_pc*100\n",
    "\n",
    "def delta_f_w(W, b, j, X, y):\n",
    "    d1=W[j]\n",
    "    d2=0\n",
    "    for i in range(len(X)):\n",
    "        if y[i]*(W.dot(X[i])+b)>=1:\n",
    "            d2+=0\n",
    "        else:\n",
    "            d2+=(-y[i]*X[i][j])\n",
    "    return d1+C*d2\n",
    "\n",
    "\n",
    "def delta_f_b(W,b, X, y):\n",
    "    d=0\n",
    "    for i in range(len(X)):\n",
    "        if y[i]*(W.dot(X[i])+b)>=1:\n",
    "            d+=0\n",
    "        else:\n",
    "            d+=(-y[i])\n",
    "    return C*d"
   ]
  },
  {
   "cell_type": "code",
   "execution_count": 24,
   "metadata": {},
   "outputs": [],
   "source": [
    "X=copy.deepcopy(X_og)\n",
    "y=copy.deepcopy(y_og)\n",
    "Xy=np.hstack((X,y.reshape(len(X),1)))\n",
    "rnd.RandomState(seed=66)\n",
    "rnd.shuffle(Xy)\n",
    "y=Xy[:,-1]\n",
    "X=Xy[:,:-1]"
   ]
  },
  {
   "cell_type": "code",
   "execution_count": 25,
   "metadata": {},
   "outputs": [],
   "source": [
    "'''Initializations'''\n",
    "eta=1e-5\n",
    "error=0.01\n",
    "B=20\n",
    "W=np.zeros(d)\n",
    "b=0\n",
    "cost_0=0\n",
    "f_0=f(W,b)\n"
   ]
  },
  {
   "cell_type": "code",
   "execution_count": 26,
   "metadata": {},
   "outputs": [],
   "source": [
    "k=0\n",
    "W_pr=np.zeros(d)\n",
    "b_pr=0\n",
    "cost_mbgd=[]\n",
    "deltas=[]\n",
    "cost_pc=100\n",
    "f_0=f(W,b)\n",
    "cost_mbgd.append(f_0)\n",
    "deltas.append(0)\n",
    "l=0\n",
    "delta=100\n",
    "start=timeit.default_timer()\n",
    "while delta>=error:\n",
    "    b1=int(l*B)\n",
    "    b2=int((l+1)*B)\n",
    "    for j in range(d):\n",
    "        W_pr[j]=W[j]-eta*delta_f_w(W, b, j,X[b1:b2],y[b1:b2])    \n",
    "    b_pr=b-eta*delta_f_b(W,b,X[b1:b2],y[b1:b2])\n",
    "    k+=1\n",
    "    l=(l+1) % (n/B)\n",
    "    cost_mbgd.append(f(W_pr,b_pr))\n",
    "    W=copy.deepcopy(W_pr)\n",
    "    b=copy.deepcopy(b_pr)\n",
    "    cost_pc=get_cost_pc(cost_mbgd[k-1],cost_mbgd[k])\n",
    "    delta=0.5*deltas[k-1]+0.5*cost_pc\n",
    "    deltas.append(delta)\n",
    "    #if (k%40==0):\n",
    "    #    print(cost_mbgd[k-1],delta)\n",
    "end=timeit.default_timer()    \n",
    "mbgd_time=(end-start)"
   ]
  },
  {
   "cell_type": "markdown",
   "metadata": {},
   "source": [
    "### Plots\n"
   ]
  },
  {
   "cell_type": "code",
   "execution_count": 27,
   "metadata": {},
   "outputs": [
    {
     "data": {
      "image/png": "[encoded data removed]",
      "text/plain": [
       "<Figure size 720x576 with 1 Axes>"
      ]
     },
     "metadata": {
      "needs_background": "light"
     },
     "output_type": "display_data"
    }
   ],
   "source": [
    "fig, ax=plt.subplots(1,1,figsize=(10,8))\n",
    "ax.set_ylabel(\"Cost\")\n",
    "ax.set_xlabel(\"Iterations\")\n",
    "ax.plot(cost_gd, c='orange', label='Batch (time: '+str(round(batch_time))+' sec)')\n",
    "ax.plot(cost_sgd, c='green', label='Stocastic (time: '+str(round(sgd_time))+' sec)')\n",
    "ax.plot(cost_mbgd, c='purple', label='Minibatch (time: '+str(round(mbgd_time))+' sec)')\n",
    "ax.spines['right'].set_visible(False)\n",
    "ax.spines['top'].set_visible(False)\n",
    "leg = ax.legend();\n",
    "ax.set_title('Gradient Descent and Convergence')\n",
    "plt.show()"
   ]
  },
  {
   "cell_type": "code",
   "execution_count": 28,
   "metadata": {},
   "outputs": [
    {
     "name": "stdout",
     "output_type": "stream",
     "text": [
      "Iterations for Gradient Descent\n",
      "Batch: 58\n",
      "Stocastic: 2377\n",
      "MiniBatch: 1263\n"
     ]
    }
   ],
   "source": [
    "print('Iterations for Gradient Descent')\n",
    "print('Batch: '+str(len(cost_gd)))\n",
    "print('Stocastic: '+str(len(cost_sgd)))\n",
    "print('MiniBatch: '+str(len(cost_mbgd)))"
   ]
  },
  {
   "cell_type": "code",
   "execution_count": null,
   "metadata": {},
   "outputs": [],
   "source": []
  }
 ],
 "metadata": {
  "kernelspec": {
   "display_name": "Python 3",
   "language": "python",
   "name": "python3"
  },
  "language_info": {
   "codemirror_mode": {
    "name": "ipython",
    "version": 3
   },
   "file_extension": ".py",
   "mimetype": "text/x-python",
   "name": "python",
   "nbconvert_exporter": "python",
   "pygments_lexer": "ipython3",
   "version": "3.7.3"
  }
 },
 "nbformat": 4,
 "nbformat_minor": 2
}
