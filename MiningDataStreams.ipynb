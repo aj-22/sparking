{
 "cells": [
  {
   "cell_type": "code",
   "execution_count": 41,
   "metadata": {},
   "outputs": [],
   "source": [
    "import pandas as pd\n",
    "import numpy as np\n",
    "import matplotlib.pyplot as plt\n",
    "import copy\n",
    "import numpy.random as rnd\n",
    "\n",
    "word_stream_raw=r'q4\\data\\words_stream.txt'\n",
    "word_stream_tiny_raw=r'q4\\data\\words_stream_tiny.txt'\n",
    "counts_raw=r'q4\\data\\counts.txt'\n",
    "counts_tiny_raw=r'q4\\data\\counts_tiny.txt'\n",
    "hash_params_raw=r'q4\\data\\hash_params.txt'"
   ]
  },
  {
   "cell_type": "code",
   "execution_count": 43,
   "metadata": {},
   "outputs": [],
   "source": [
    "'''Counts and Param Load'''\n",
    "counts = np.genfromtxt(counts_raw,dtype=(int,int),delimiter=\"\\t\")\n",
    "counts_tiny = np.genfromtxt(counts_tiny_raw,dtype=(int,int),delimiter=\"\\t\")\n",
    "hash_params = np.loadtxt(hash_params_raw,dtype=(int,int),delimiter=\"\\t\")"
   ]
  },
  {
   "cell_type": "code",
   "execution_count": 44,
   "metadata": {},
   "outputs": [],
   "source": [
    "'''Stream Load'''\n",
    "#word_stream = np.genfromtxt(word_stream_raw)\n",
    "word_stream_tiny = np.loadtxt(word_stream_tiny_raw, dtype=(int))"
   ]
  },
  {
   "cell_type": "code",
   "execution_count": 28,
   "metadata": {},
   "outputs": [
    {
     "data": {
      "text/plain": [
       "array([  1,   2,   3, ..., 395,  73,  88])"
      ]
     },
     "execution_count": 28,
     "metadata": {},
     "output_type": "execute_result"
    }
   ],
   "source": [
    "'''Parameters'''\n",
    "delta=1e-5\n",
    "eps=np.e*1e-4\n",
    "n_buckets=10000 #np.e / eps\n",
    "p=123457\n",
    "t=len(counts_tiny)"
   ]
  },
  {
   "cell_type": "code",
   "execution_count": 45,
   "metadata": {},
   "outputs": [],
   "source": [
    "# Returns hash(x) for hash function given by parameters a, b, p and n_buckets\n",
    "def hash_fun(a, b, p, n_buckets, x):\n",
    "    y = x % p\n",
    "    hash_val = (a*y + b) % p\n",
    "    return hash_val % n_buckets"
   ]
  },
  {
   "cell_type": "code",
   "execution_count": 49,
   "metadata": {},
   "outputs": [],
   "source": [
    "def hash_1(x):\n",
    "    a=hash_params[0][0]\n",
    "    b=hash_params[0][1]\n",
    "    return hash_fun(a,b,p,n_buckets,x)\n",
    "def hash_2(x):\n",
    "    a=hash_params[1][0]\n",
    "    b=hash_params[1][1]\n",
    "    return hash_fun(a,b,p,n_buckets,x)\n",
    "def hash_3(x):\n",
    "    a=hash_params[2][0]\n",
    "    b=hash_params[2][1]\n",
    "    return hash_fun(a,b,p,n_buckets,x)\n",
    "def hash_4(x):\n",
    "    a=hash_params[3][0]\n",
    "    b=hash_params[3][1]\n",
    "    return hash_fun(a,b,p,n_buckets,x)\n",
    "def hash_5(x):\n",
    "    a=hash_params[4][0]\n",
    "    b=hash_params[4][1]\n",
    "    return hash_fun(a,b,p,n_buckets,x)"
   ]
  },
  {
   "cell_type": "code",
   "execution_count": 50,
   "metadata": {},
   "outputs": [],
   "source": [
    "dict_word_buckets={}\n",
    "buckets=np.zeros(shape=(5,n_buckets))"
   ]
  },
  {
   "cell_type": "code",
   "execution_count": 51,
   "metadata": {},
   "outputs": [],
   "source": [
    "for word in word_stream_tiny:\n",
    "    h1=hash_1(word)\n",
    "    h2=hash_2(word)\n",
    "    h3=hash_3(word)\n",
    "    h4=hash_4(word)\n",
    "    h5=hash_5(word)\n",
    "    if word not in dict_word_buckets.keys():\n",
    "        dict_word_buckets[word]=[h1,h2,h3,h4,h5]\n",
    "    else:\n",
    "        if dict_word_buckets[word]!=[h1,h2,h3,h4,h5]:\n",
    "            print('Wait what?')\n",
    "    buckets[0][h1]+=1\n",
    "    buckets[1][h2]+=1\n",
    "    buckets[2][h3]+=1\n",
    "    buckets[3][h4]+=1\n",
    "    buckets[4][h5]+=1"
   ]
  },
  {
   "cell_type": "code",
   "execution_count": 56,
   "metadata": {},
   "outputs": [],
   "source": [
    "dict_word_counts={}"
   ]
  },
  {
   "cell_type": "code",
   "execution_count": 57,
   "metadata": {},
   "outputs": [],
   "source": [
    "for word in dict_word_buckets.keys():\n",
    "    b1=buckets[0][dict_word_buckets[word][0]]\n",
    "    b2=buckets[1][dict_word_buckets[word][1]]\n",
    "    b3=buckets[2][dict_word_buckets[word][2]]\n",
    "    b4=buckets[3][dict_word_buckets[word][3]]\n",
    "    b5=buckets[4][dict_word_buckets[word][4]]\n",
    "    dict_word_counts[word]=min(b1,b2,b3,b4,b5)"
   ]
  },
  {
   "cell_type": "code",
   "execution_count": 83,
   "metadata": {},
   "outputs": [],
   "source": [
    "ErrorVsFreq=np.zeros(shape=(len(dict_word_counts.keys()),2))\n",
    "dict_word_actual_counts={}\n",
    "\n",
    "for i in counts_tiny:\n",
    "    dict_word_actual_counts[i[0]]=i[1]"
   ]
  },
  {
   "cell_type": "code",
   "execution_count": 84,
   "metadata": {},
   "outputs": [],
   "source": [
    "for i, word in enumerate(dict_word_counts.keys()):\n",
    "    Error=(dict_word_counts[word]-dict_word_actual_counts[word])/dict_word_actual_counts[word]\n",
    "    Freq=dict_word_actual_counts[word]/t\n",
    "    ErrorVsFreq[i][0]=Error\n",
    "    ErrorVsFreq[i][1]=Freq"
   ]
  },
  {
   "cell_type": "code",
   "execution_count": 102,
   "metadata": {},
   "outputs": [
    {
     "data": {
      "image/png": "[encoded data removed]",
      "text/plain": [
       "<Figure size 432x288 with 1 Axes>"
      ]
     },
     "metadata": {
      "needs_background": "light"
     },
     "output_type": "display_data"
    }
   ],
   "source": [
    "E=ErrorVsFreq[:,0]\n",
    "F=ErrorVsFreq[:,1]\n",
    "plt.loglog(F,E,'.',markersize=2)\n",
    "plt.xlabel('Frequencies (log)')\n",
    "plt.ylabel('Error (log)')\n",
    "plt.loglog([0,1],[1,1])\n",
    "plt.show()"
   ]
  },
  {
   "cell_type": "code",
   "execution_count": null,
   "metadata": {},
   "outputs": [],
   "source": []
  }
 ],
 "metadata": {
  "kernelspec": {
   "display_name": "Python 3",
   "language": "python",
   "name": "python3"
  },
  "language_info": {
   "codemirror_mode": {
    "name": "ipython",
    "version": 3
   },
   "file_extension": ".py",
   "mimetype": "text/x-python",
   "name": "python",
   "nbconvert_exporter": "python",
   "pygments_lexer": "ipython3",
   "version": "3.7.3"
  }
 },
 "nbformat": 4,
 "nbformat_minor": 2
}
